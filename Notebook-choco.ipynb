{
    "metadata": {
        "kernelspec": {
            "name": "SQL",
            "display_name": "SQL",
            "language": "sql"
        },
        "language_info": {
            "name": "sql",
            "version": ""
        }
    },
    "nbformat_minor": 2,
    "nbformat": 4,
    "cells": [
        {
            "cell_type": "markdown",
            "source": [
                "--Copy Table script (need to delete table first)  \n",
                "SELECT * INTO dbo.chocolate_data_expand  \n",
                "FROM dbo.chocolate_data;"
            ],
            "metadata": {
                "azdata_cell_guid": "3d0ad5ea-b435-48eb-b986-323a9efa1bd8"
            }
        },
        {
            "cell_type": "markdown",
            "source": [
                "Questions:\n",
                "\n",
                "Which factors give out the highest average rating (cocoa%, region, ingredients)?\n",
                "\n",
                "How do unique characteristics play into ratings?"
            ],
            "metadata": {
                "azdata_cell_guid": "d2a71902-af13-4520-ae61-1be13b1173c7"
            },
            "attachments": {}
        },
        {
            "cell_type": "markdown",
            "source": [
                "<span style=\"color: var(--vscode-foreground);\">The table consists of 7 columns:</span>\n",
                "\n",
                "- Company - Name of Manufacturer\n",
                "- Company\\_Location - ex. U.S.A., France, Japan, etc.\n",
                "- Country\\_of\\_Bean\\_Origin - ex. India, Vietnam, etc.\n",
                "- Cocoa\\_Percent - How much of the chocolate bar is made from cocoa\n",
                "- Ingredients - List of ingredients in the bar where \n",
                "    - B = Beans\n",
                "    - S = Sugar\n",
                "    - S\\* = Sweetener other than white cane or beet sugar\n",
                "    - C = Cocoa Butter\n",
                "    - V = Vanilla\n",
                "    - L = Lecithin\n",
                "    - Sa = Salt\n",
                "- Most\\_Memorable\\_Characteristics - List of characteristics memorable to the chocolate\n",
                "- Rating - Score out of 5 the reviewers gave it\n",
                "\n",
                "<span style=\"color: var(--vscode-foreground);\">After scraping&nbsp;</span>  <span style=\"color: var(--vscode-foreground);\">the data from python a</span><span style=\"color: var(--vscode-foreground);\">nd importing it to Azure Data Studio, we need to do some initial cleaning. Because I don't want to double count rows with the splitting of Ingredients/Characteristics later on, I will store these changes in an '_expand' table different from the original table.</span> \n",
                "\n",
                "For the Ingredients/Characteristics column, some ingredients have spaces between commas and some characteristics are quite lengthy, so we'll remove commas and spaces to shorten them.\n",
                "\n",
                "For the Ingredients column especially, there's a text indicator (ex. 3- B,C,S) that we need to remove from our table."
            ],
            "metadata": {
                "azdata_cell_guid": "3d75c69a-632b-4c54-a977-c2cd98bb5931"
            },
            "attachments": {}
        },
        {
            "cell_type": "code",
            "source": [
                "UPDATE dbo.chocolate_data_expand\n",
                "SET Ingredients = right(Ingredients, len(Ingredients) - charindex('-', Ingredients))\n",
                "UPDATE dbo.chocolate_data_expand\n",
                "SET Ingredients = REPLACE(Ingredients, CHAR(32), ''),\n",
                "    Most_Memorable_Characteristics = REPLACE(Most_Memorable_Characteristics, CHAR(32), '')\n",
                "--SELECT TOP 3 * FROM dbo.chocolate_data_expand"
            ],
            "metadata": {
                "azdata_cell_guid": "f46f47c9-a2b3-4853-b21a-038cebf8ae81",
                "language": "sql",
                "tags": []
            },
            "outputs": [],
            "execution_count": null
        },
        {
            "cell_type": "markdown",
            "source": [
                "Now we can do some EDA to answer potential questions on column values which result in higher ratings for our critics: Cocoa %, Company Location, and finally Ingredients/Characteristics."
            ],
            "metadata": {
                "language": "sql",
                "azdata_cell_guid": "5a139e11-571d-4d31-9bae-52c9fe777fe2"
            },
            "attachments": {}
        },
        {
            "cell_type": "code",
            "source": [
                "--Finding average rating of cocoa%\n",
                "SELECT Cocoa_Percent, Count(*) AS [Num_Records], AVG(Rating) AS [Average_Rating]\n",
                "FROM dbo.chocolate_data\n",
                "GROUP BY Cocoa_Percent\n",
                "HAVING Count(*) > 1\n",
                "ORDER BY AVG(Rating) desc;"
            ],
            "metadata": {
                "language": "sql",
                "azdata_cell_guid": "8e45984a-8bb1-46df-a419-f39fc94a4be7"
            },
            "outputs": [],
            "execution_count": null
        },
        {
            "cell_type": "markdown",
            "source": [
                "Highest rated cocoa percentage is between 66%-69%, with a decent sample size."
            ],
            "metadata": {
                "azdata_cell_guid": "bfa70301-08c4-40b2-ad40-a0d044c55ee5",
                "language": ""
            },
            "attachments": {}
        },
        {
            "cell_type": "code",
            "source": [
                "--Finding average rating by Company_Location, at least 5 records\n",
                "SELECT Company_Location, Count(*) AS [Num_Records], AVG(Rating) AS [Average_Rating]\n",
                "FROM dbo.chocolate_data\n",
                "GROUP BY Company_Location\n",
                "HAVING Count(*) >= 5\n",
                "ORDER BY AVG(Rating) desc;"
            ],
            "metadata": {
                "language": "sql",
                "azdata_cell_guid": "78871698-d27e-4720-85aa-5aa15cdbda6f",
                "tags": []
            },
            "outputs": [],
            "execution_count": null
        },
        {
            "cell_type": "markdown",
            "source": [
                "USA holds the most observations of chocolate bars with 1227, followed by Canada/France with ~186 each. The top average ratings spot goes to U.A.E. with 3.4 followed by Poland and Denmark."
            ],
            "metadata": {
                "language": "",
                "azdata_cell_guid": "caf09fa4-565c-4d22-898a-ea16586b3c09"
            },
            "attachments": {}
        },
        {
            "cell_type": "markdown",
            "source": [
                "Now let's look at the Ingredients breakdown."
            ],
            "metadata": {
                "azdata_cell_guid": "f185f720-641d-4a99-9d02-76c8cb85d25e"
            },
            "attachments": {}
        },
        {
            "cell_type": "code",
            "source": [
                "--Finding average rating of ingredients\n",
                "SELECT TRIM([value]) as split_ingredients, AVG(Rating) AS [Average_Rating], COUNT([value])\n",
                "FROM dbo.chocolate_data_expand\n",
                "    CROSS APPLY string_split(Ingredients, ',')\n",
                "GROUP BY [value]\n",
                "ORDER BY Average_Rating DESC;"
            ],
            "metadata": {
                "language": "sql",
                "azdata_cell_guid": "38993d7c-aa00-452a-b496-c8b3e67eb71c"
            },
            "outputs": [],
            "execution_count": null
        },
        {
            "cell_type": "markdown",
            "source": [
                "Sugar has the highest average rating and non-sugar sweetener lowest. Honestly, not surprising considering the human palate likes sugary items which also makes other sweeteners taste different. This is only an observation and does not take into account interactions of ingredients, which can be explored at a different time."
            ],
            "metadata": {
                "language": "",
                "azdata_cell_guid": "14b9a9d9-bef2-4c55-83f6-f9cf4de102f8"
            },
            "attachments": {}
        },
        {
            "cell_type": "markdown",
            "source": [
                "And finally, characteristics."
            ],
            "metadata": {
                "azdata_cell_guid": "4336a83e-96ef-46fb-8f2c-71e7ec9b27fe"
            },
            "attachments": {}
        },
        {
            "cell_type": "code",
            "source": [
                "--Finding average rating of characteristics\n",
                "SELECT TRIM([value]) as split_characteristics, AVG(Rating) AS [Average_Rating], COUNT([value]) AS [CNT]\n",
                "FROM dbo.chocolate_data_expand\n",
                "    CROSS APPLY string_split(Most_Memorable_Characteristics, ',')\n",
                "GROUP BY [value]\n",
                "ORDER BY Average_Rating DESC;"
            ],
            "metadata": {
                "language": "sql",
                "azdata_cell_guid": "ed56b1f1-3e1f-47fb-a8ad-fdee61f06b4f"
            },
            "outputs": [],
            "execution_count": null
        },
        {
            "cell_type": "markdown",
            "source": [
                "Doing a quick contextual analysis, pleasant-sounding and unique characteristics yield top rated chocolates."
            ],
            "metadata": {
                "language": "",
                "azdata_cell_guid": "8e6e4e1e-a7ae-4e7c-b6cc-7a1547d385c9"
            },
            "attachments": {}
        },
        {
            "cell_type": "code",
            "source": [
                "SELECT TRIM([value]) as split_characteristics, AVG(Rating) AS [Average_Rating], COUNT([value]) AS [CNT]\n",
                "FROM dbo.chocolate_data_expand\n",
                "    CROSS APPLY string_split(Most_Memorable_Characteristics, ',')\n",
                "GROUP BY [value]\n",
                "HAVING COUNT([value]) > 10\n",
                "ORDER BY Average_Rating DESC;"
            ],
            "metadata": {
                "language": "sql",
                "azdata_cell_guid": "49be9683-6a10-4ecc-87fa-613a7c601a87"
            },
            "outputs": [],
            "execution_count": null
        },
        {
            "cell_type": "markdown",
            "source": [
                "For more common chocolates, balanced and strong fruity flavors reign supreme."
            ],
            "metadata": {
                "language": "",
                "azdata_cell_guid": "fba5bc2e-4226-4a71-8225-d4b9a67a1e50"
            },
            "attachments": {}
        },
        {
            "cell_type": "markdown",
            "source": [
                "There were also a lot of unique characteristics of chocolates that merits further exploration."
            ],
            "metadata": {
                "azdata_cell_guid": "acec871a-0884-4787-86ab-6852b1184876"
            },
            "attachments": {}
        },
        {
            "cell_type": "code",
            "source": [
                "--Exploring unique characteristics\n",
                "SELECT *\n",
                "FROM dbo.chocolate_data_expand\n",
                "    CROSS APPLY string_split(Most_Memorable_Characteristics, ',')\n",
                "WHERE value = 'longandrich';\n",
                "--We can see this unique characteristic comes from Belgium,\n",
                "--how many of these one-off ones come from there or other places?\n",
                "WITH Choco_CTE\n",
                "AS\n",
                "(\n",
                "    SELECT *\n",
                "    FROM dbo.chocolate_data_expand\n",
                "        CROSS APPLY string_split(Most_Memorable_Characteristics, ',')\n",
                "),\n",
                "Choco_CTE_2\n",
                "AS\n",
                "(\n",
                "    SELECT value, AVG(Rating) AS [Average_Rating], COUNT([value]) AS [CNT]\n",
                "    FROM Choco_CTE\n",
                "    GROUP BY [value]\n",
                "),\n",
                "Choco_CTE_3\n",
                "AS\n",
                "(\n",
                "    SELECT *\n",
                "    FROM Choco_CTE_2\n",
                "    WHERE CNT = 1\n",
                ")\n",
                "-- To find all rows with unique characteristics\n",
                "SELECT *\n",
                "FROM Choco_CTE_3\n",
                "JOIN Choco_CTE ON Choco_CTE_3.value = Choco_CTE.value;\n",
                "/* SELECT Company, Company_Location, AVG(Rating) AS average, COUNT(Company)  \n",
                "FROM Choco_CTE_3  \n",
                "JOIN Choco_CTE ON Choco_CTE_3.value = Choco_CTE.value  \n",
                "GROUP BY Company, Company_Location  \n",
                "ORDER BY average DESC; */\n",
                "/* SELECT Company_Location, COUNT(Company_Location)  \n",
                "FROM Choco_CTE_3  \n",
                "JOIN Choco_CTE ON Choco_CTE_3.value = Choco_CTE.value  \n",
                "GROUP BY Company_Location  \n",
                "ORDER BY COUNT(Company_Location) DESC; */"
            ],
            "metadata": {
                "language": "sql",
                "azdata_cell_guid": "349d2700-6f68-49b4-9dac-ff4252aab0de"
            },
            "outputs": [],
            "execution_count": null
        },
        {
            "cell_type": "markdown",
            "source": [
                "It seems U.S.A. has lots of top rated unique chocolate characteristics, but probably due to the large quantity of them inflating their numbers. <span style=\"color: var(--vscode-foreground);\">Surprisingly, Chile and Vietnam who have 1 and 2 chocolate entries respectively, hold top 10 spots.</span>"
            ],
            "metadata": {
                "azdata_cell_guid": "6ca5cabc-d482-4721-aab1-a233a4baef55"
            },
            "attachments": {}
        },
        {
            "cell_type": "markdown",
            "source": [
                "Notes for future project: Generate primary key for each entry to not double count rows when analyzing ingredients/characteristics"
            ],
            "metadata": {
                "azdata_cell_guid": "414584c5-f052-4307-ad51-e5e7c84a5f75"
            }
        }
    ]
}